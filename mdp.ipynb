{
 "cells": [
  {
   "cell_type": "code",
   "execution_count": 32,
   "metadata": {},
   "outputs": [],
   "source": [
    "class MDP:\n",
    "    def __init__(self, actlist, init, terminals, discount=0.9):\n",
    "        self.init = init\n",
    "        self.actlist = actlist\n",
    "        self.terminals = terminals\n",
    "        self.discount = discount\n",
    "        self.states = set()\n",
    "        self.reward = {}\n",
    "\n",
    "    def Reward(self, state):\n",
    "        return self.reward.get(state, 0)  # Handle missing states safely\n",
    "\n",
    "    def Transition(self, state):\n",
    "        print(\"Here we initialize the probability\")\n",
    "\n",
    "    def action(self, state):\n",
    "        return [None] if state in self.terminals else self.actlist\n"
   ]
  },
  {
   "cell_type": "code",
   "execution_count": 33,
   "metadata": {},
   "outputs": [],
   "source": [
    "class GridMDP(MDP):\n",
    "    def __init__(self, grid, terminals, init=(0,0), discount=0.9):\n",
    "        directions = [(1,0), (-1,0), (0,1), (0,-1)]\n",
    "        grid.reverse()\n",
    "        \n",
    "        # Define action list\n",
    "        actlist = directions\n",
    "\n",
    "        super().__init__(actlist, init, terminals, discount)  # Fixed superclass init call\n",
    "        \n",
    "        self.grid = grid\n",
    "        self.rows = len(grid)\n",
    "        self.columns = len(grid[0])\n",
    "        \n",
    "        for y in range(self.rows):\n",
    "            for x in range(self.columns):\n",
    "                if grid[y][x] is not None:\n",
    "                    self.states.add((x, y))\n",
    "                    self.reward[(x, y)] = grid[y][x]  # Store rewards\n",
    "\n",
    "    def display(self, mapping):\n",
    "        return list(reversed([\n",
    "            [mapping.get((x, y), None) for x in range(self.columns)]\n",
    "            for y in range(self.rows)\n",
    "        ]))\n",
    "\n",
    "    def go(self, state, function):\n",
    "        state1 = vector_add(state, function)\n",
    "        return if_(state1 in self.states, state1, state)\n",
    "\n",
    "    def Transition(self, state, action):\n",
    "        if action is None:\n",
    "            return [(0.0, state)]\n",
    "        else:\n",
    "            return [\n",
    "                (0.8, self.go(state, action)),\n",
    "                (0.1, self.go(state, turn_left(action))),\n",
    "                (0.1, self.go(state, turn_right(action)))\n",
    "            ]"
   ]
  },
  {
   "cell_type": "code",
   "execution_count": 34,
   "metadata": {},
   "outputs": [],
   "source": [
    "import operator\n",
    "\n",
    "def vector_add(a, b):\n",
    "    return tuple(map(operator.add, a, b))\n",
    "\n",
    "def if_(test, result, alternative):\n",
    "    return result if test else alternative\n",
    "\n",
    "def update(x, **entries):\n",
    "    if isinstance(x, dict):\n",
    "        x.update(entries)\n",
    "    else:\n",
    "        x.__dict__.update(entries)  # Fixed typo in update function\n",
    "\n",
    "directions = [(1,0), (0,1), (-1,0), (0,-1)]\n",
    "\n",
    "def turn_left(direction):\n",
    "    return directions[(directions.index(direction) + 1) % len(directions)]\n",
    "\n",
    "def turn_right(direction):\n",
    "    return directions[(directions.index(direction) - 1)]"
   ]
  },
  {
   "cell_type": "code",
   "execution_count": 35,
   "metadata": {},
   "outputs": [
    {
     "data": {
      "text/plain": [
       "1"
      ]
     },
     "execution_count": 35,
     "metadata": {},
     "output_type": "execute_result"
    }
   ],
   "source": [
    "directions.index((1,0))+1"
   ]
  },
  {
   "cell_type": "code",
   "execution_count": 36,
   "metadata": {},
   "outputs": [],
   "source": [
    "grid = [[1,2,3,4],\n",
    "        [5,6,7,8],\n",
    "        [9,10,11,12]]"
   ]
  },
  {
   "cell_type": "code",
   "execution_count": 37,
   "metadata": {},
   "outputs": [
    {
     "data": {
      "text/plain": [
       "(0, -1)"
      ]
     },
     "execution_count": 37,
     "metadata": {},
     "output_type": "execute_result"
    }
   ],
   "source": [
    "turn_right((1,0))"
   ]
  },
  {
   "cell_type": "code",
   "execution_count": 38,
   "metadata": {},
   "outputs": [
    {
     "name": "stdout",
     "output_type": "stream",
     "text": [
      "[9, 10, 11, 12]\n",
      "[5, 6, 7, 8]\n",
      "[1, 2, 3, 4]\n"
     ]
    }
   ],
   "source": [
    "grid.reverse()\n",
    "print(*grid , sep=\"\\n\")"
   ]
  },
  {
   "cell_type": "code",
   "execution_count": 39,
   "metadata": {},
   "outputs": [
    {
     "data": {
      "text/plain": [
       "8"
      ]
     },
     "execution_count": 39,
     "metadata": {},
     "output_type": "execute_result"
    }
   ],
   "source": [
    "grid[1][3]"
   ]
  },
  {
   "cell_type": "code",
   "execution_count": 40,
   "metadata": {},
   "outputs": [
    {
     "data": {
      "text/plain": [
       "(3, 2)"
      ]
     },
     "execution_count": 40,
     "metadata": {},
     "output_type": "execute_result"
    }
   ],
   "source": [
    "vector_add((2,2) , (1,0))"
   ]
  },
  {
   "cell_type": "code",
   "execution_count": 41,
   "metadata": {},
   "outputs": [
    {
     "name": "stdout",
     "output_type": "stream",
     "text": [
      "States: {(0, 1), (1, 2), (2, 1), (0, 0), (3, 1), (2, 0), (3, 0), (0, 2), (2, 2), (1, 0), (3, 2)}\n",
      "Rewards: {(0, 0): 0, (1, 0): 0, (2, 0): 0, (3, 0): 0, (0, 1): 0, (2, 1): 0, (3, 1): -1, (0, 2): 0, (1, 2): 0, (2, 2): 0, (3, 2): 1}\n"
     ]
    }
   ],
   "source": [
    "living_reward = 0\n",
    "mdp1 = GridMDP([\n",
    "    [living_reward, living_reward, living_reward, +1],\n",
    "    [living_reward, None, living_reward, -1],\n",
    "    [living_reward, living_reward, living_reward, living_reward]\n",
    "], terminals=[(3,2), (3,1)])\n",
    "\n",
    "# Test the initialization\n",
    "print(\"States:\", mdp1.states)\n",
    "print(\"Rewards:\", mdp1.reward)"
   ]
  },
  {
   "cell_type": "code",
   "execution_count": 42,
   "metadata": {},
   "outputs": [
    {
     "name": "stdout",
     "output_type": "stream",
     "text": [
      "(1, 0)\n",
      "(-1, 0)\n",
      "(0, 1)\n",
      "(0, -1)\n"
     ]
    }
   ],
   "source": [
    "for a in mdp1.action((2,2)):\n",
    "    print(a)"
   ]
  },
  {
   "cell_type": "code",
   "execution_count": 45,
   "metadata": {},
   "outputs": [
    {
     "name": "stdout",
     "output_type": "stream",
     "text": [
      "{(0, 1): 0, (1, 2): 0, (2, 1): 0, (0, 0): 0, (3, 1): 0, (2, 0): 0, (3, 0): 0, (0, 2): 0, (2, 2): 0, (1, 0): 0, (3, 2): 0}\n",
      "{(0, 1): 0, (1, 2): 0, (2, 1): 0, (0, 0): 0, (3, 1): 0, (2, 0): 0, (3, 0): 0, (0, 2): 0, (2, 2): 0, (1, 0): 0, (3, 2): 0}\n",
      "0 0.8\n",
      "0 0.1\n",
      "0 0.1\n",
      "0 0.8\n",
      "0 0.1\n",
      "0 0.1\n",
      "0 0.8\n",
      "0 0.1\n",
      "0 0.1\n",
      "0 0.8\n",
      "0 0.1\n",
      "0 0.1\n"
     ]
    }
   ],
   "source": [
    "u1 = {s: 0 for s in mdp1.states}\n",
    "u= u1.copy()\n",
    "print(u1)\n",
    "print(u)\n",
    "\n",
    "for a in mdp1.action((2,2)):\n",
    "    for (p,s1) in mdp1.Transition((2,2) , a):\n",
    "        print(u1[s1] , p)"
   ]
  },
  {
   "cell_type": "code",
   "execution_count": 46,
   "metadata": {},
   "outputs": [],
   "source": [
    "# Bellman equation is used to calculate the optimal values\n",
    "# in value iteration --> calculate upto k steps \n",
    "\n",
    "def value_iteration(mdp, iterations=9):\n",
    "    u_over_time = []\n",
    "    u1 = {s: 0 for s in mdp.states}  # Fixed dictionary initialization\n",
    "    R, T, discount = mdp.Reward, mdp.Transition, mdp.discount\n",
    "\n",
    "    for _ in range(iterations):\n",
    "        u = u1.copy()\n",
    "        for s in mdp.states:\n",
    "            if s in mdp.terminals:\n",
    "                u1[s] = R(s)\n",
    "            else:\n",
    "                u1[s] = max(\n",
    "                    sum(p * (R(s) + discount * u[s1]) for (p, s1) in T(s, a))\n",
    "                    for a in mdp.action(s)\n",
    "                )  # Fixed summation and function calls\n",
    "\n",
    "        u_over_time.append(u.copy())  # Append a copy of the utility values\n",
    "\n",
    "    return u_over_time\n"
   ]
  },
  {
   "cell_type": "code",
   "execution_count": 47,
   "metadata": {},
   "outputs": [],
   "source": [
    "u_over_time = value_iteration(mdp1)"
   ]
  },
  {
   "cell_type": "code",
   "execution_count": 49,
   "metadata": {},
   "outputs": [
    {
     "name": "stdout",
     "output_type": "stream",
     "text": [
      "[(0.8, (3, 2)), (0.1, (2, 2)), (0.1, (2, 1))]\n"
     ]
    }
   ],
   "source": [
    "print(mdp1.Transition((2,2),(1,0)))"
   ]
  },
  {
   "cell_type": "code",
   "execution_count": 51,
   "metadata": {},
   "outputs": [
    {
     "name": "stdout",
     "output_type": "stream",
     "text": [
      "{(0, 1): 0.0, (1, 2): 0.0, (2, 1): 0.0, (0, 0): 0.0, (3, 1): -1, (2, 0): 0.0, (3, 0): 0.0, (0, 2): 0.0, (2, 2): 0.7200000000000001, (1, 0): 0.0, (3, 2): 1}\n"
     ]
    }
   ],
   "source": [
    "print(u_over_time[2])"
   ]
  },
  {
   "cell_type": "code",
   "execution_count": 57,
   "metadata": {},
   "outputs": [
    {
     "name": "stdout",
     "output_type": "stream",
     "text": [
      "[0.3732480000000001, 0.6583680000000002, 0.8291880000000001, 1]\n",
      "[0.0, None, 0.5136120000000002, -1]\n",
      "[0.0, 0.0, 0.30844800000000006, 0.0]\n"
     ]
    }
   ],
   "source": [
    "print(*mdp1.display(u_over_time[4]) , sep=\"\\n\")"
   ]
  },
  {
   "cell_type": "code",
   "execution_count": 58,
   "metadata": {},
   "outputs": [
    {
     "name": "stdout",
     "output_type": "stream",
     "text": [
      "0.0\n",
      "0.0\n",
      "0.0\n",
      "0.0\n",
      "None\n",
      "0.0\n",
      "0.0\n",
      "0.0\n",
      "0.0\n",
      "None\n",
      "None\n",
      "None\n"
     ]
    }
   ],
   "source": [
    "for y in range(mdp1.columns):\n",
    "    for x in range(mdp1.rows):\n",
    "        print(u_over_time[1].get((x,y),None))"
   ]
  },
  {
   "cell_type": "code",
   "execution_count": null,
   "metadata": {},
   "outputs": [],
   "source": []
  }
 ],
 "metadata": {
  "kernelspec": {
   "display_name": "research_env",
   "language": "python",
   "name": "python3"
  },
  "language_info": {
   "codemirror_mode": {
    "name": "ipython",
    "version": 3
   },
   "file_extension": ".py",
   "mimetype": "text/x-python",
   "name": "python",
   "nbconvert_exporter": "python",
   "pygments_lexer": "ipython3",
   "version": "3.10.16"
  }
 },
 "nbformat": 4,
 "nbformat_minor": 2
}
